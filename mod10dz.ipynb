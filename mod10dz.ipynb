{
  "nbformat": 4,
  "nbformat_minor": 0,
  "metadata": {
    "colab": {
      "provenance": []
    },
    "kernelspec": {
      "name": "python3",
      "display_name": "Python 3"
    },
    "language_info": {
      "name": "python"
    }
  },
  "cells": [
    {
      "cell_type": "code",
      "source": [
        "!pip install scikit-surprise\n"
      ],
      "metadata": {
        "colab": {
          "base_uri": "https://localhost:8080/"
        },
        "id": "TCpZbF2jRaXz",
        "outputId": "c533c714-a108-4022-ea15-3da9f58a1477"
      },
      "execution_count": 2,
      "outputs": [
        {
          "output_type": "stream",
          "name": "stdout",
          "text": [
            "Collecting scikit-surprise\n",
            "  Using cached scikit_surprise-1.1.4.tar.gz (154 kB)\n",
            "  Installing build dependencies ... \u001b[?25l\u001b[?25hdone\n",
            "  Getting requirements to build wheel ... \u001b[?25l\u001b[?25hdone\n",
            "  Preparing metadata (pyproject.toml) ... \u001b[?25l\u001b[?25hdone\n",
            "Requirement already satisfied: joblib>=1.2.0 in /usr/local/lib/python3.10/dist-packages (from scikit-surprise) (1.4.2)\n",
            "Requirement already satisfied: numpy>=1.19.5 in /usr/local/lib/python3.10/dist-packages (from scikit-surprise) (1.26.4)\n",
            "Requirement already satisfied: scipy>=1.6.0 in /usr/local/lib/python3.10/dist-packages (from scikit-surprise) (1.13.1)\n",
            "Building wheels for collected packages: scikit-surprise\n",
            "  Building wheel for scikit-surprise (pyproject.toml) ... \u001b[?25l\u001b[?25hdone\n",
            "  Created wheel for scikit-surprise: filename=scikit_surprise-1.1.4-cp310-cp310-linux_x86_64.whl size=2357270 sha256=7db763add67637e29b8711b21cc43764a020cdbd6840db4ca83baf55c300144c\n",
            "  Stored in directory: /root/.cache/pip/wheels/4b/3f/df/6acbf0a40397d9bf3ff97f582cc22fb9ce66adde75bc71fd54\n",
            "Successfully built scikit-surprise\n",
            "Installing collected packages: scikit-surprise\n",
            "Successfully installed scikit-surprise-1.1.4\n"
          ]
        }
      ]
    },
    {
      "cell_type": "code",
      "execution_count": 3,
      "metadata": {
        "id": "5EhU79PDpIPk",
        "colab": {
          "base_uri": "https://localhost:8080/"
        },
        "outputId": "11938a0b-e53b-42d3-c462-2fe1e5cee37e"
      },
      "outputs": [
        {
          "output_type": "stream",
          "name": "stdout",
          "text": [
            "Dataset ml-100k could not be found. Do you want to download it? [Y/n] Y\n",
            "Trying to download dataset from https://files.grouplens.org/datasets/movielens/ml-100k.zip...\n",
            "Done! Dataset ml-100k has been saved to /root/.surprise_data/ml-100k\n",
            "RMSE: 0.9362\n",
            "Best parameters for SVD: {'n_factors': 150, 'reg_all': 0.1, 'lr_all': 0.01}\n",
            "Evaluating RMSE of algorithm SVDpp on 3 split(s).\n",
            "\n",
            "                  Fold 1  Fold 2  Fold 3  Mean    Std     \n",
            "RMSE (testset)    0.9287  0.9261  0.9303  0.9284  0.0017  \n",
            "Fit time          19.13   19.30   19.37   19.27   0.10    \n",
            "Test time         6.33    6.50    6.61    6.48    0.11    \n",
            "Evaluating RMSE of algorithm NMF on 3 split(s).\n",
            "\n",
            "                  Fold 1  Fold 2  Fold 3  Mean    Std     \n",
            "RMSE (testset)    0.9645  0.9759  0.9835  0.9747  0.0078  \n",
            "Fit time          2.62    1.78    1.81    2.07    0.39    \n",
            "Test time         0.29    0.17    0.26    0.24    0.05    \n"
          ]
        },
        {
          "output_type": "execute_result",
          "data": {
            "text/plain": [
              "{'test_rmse': array([0.96454259, 0.97592194, 0.98350118]),\n",
              " 'fit_time': (2.6176562309265137, 1.7788372039794922, 1.807837963104248),\n",
              " 'test_time': (0.2903776168823242, 0.1694345474243164, 0.2587311267852783)}"
            ]
          },
          "metadata": {},
          "execution_count": 3
        }
      ],
      "source": [
        "from surprise import SVD, SVDpp, NMF, Dataset, Reader\n",
        "from surprise.model_selection import cross_validate, GridSearchCV\n",
        "from surprise import accuracy\n",
        "from surprise.model_selection import train_test_split\n",
        "\n",
        "data = Dataset.load_builtin('ml-100k')\n",
        "\n",
        "trainset, testset = train_test_split(data, test_size=0.2, random_state=42)\n",
        "\n",
        "svd = SVD()\n",
        "\n",
        "svd.fit(trainset)\n",
        "\n",
        "predictions = svd.test(testset)\n",
        "rmse = accuracy.rmse(predictions)\n",
        "\n",
        "param_grid = {\n",
        "    'n_factors': [50, 100, 150],\n",
        "    'reg_all': [0.02, 0.05, 0.1],\n",
        "    'lr_all': [0.002, 0.005, 0.01]\n",
        "}\n",
        "gs = GridSearchCV(SVD, param_grid, measures=['rmse'], cv=3)\n",
        "gs.fit(data)\n",
        "\n",
        "best_params_svd = gs.best_params['rmse']\n",
        "print(\"Best parameters for SVD:\", best_params_svd)\n",
        "\n",
        "svdpp = SVDpp()\n",
        "cross_validate(svdpp, data, measures=['RMSE'], cv=3, verbose=True)\n",
        "\n",
        "nmf = NMF()\n",
        "cross_validate(nmf, data, measures=['RMSE'], cv=3, verbose=True)\n"
      ]
    }
  ]
}